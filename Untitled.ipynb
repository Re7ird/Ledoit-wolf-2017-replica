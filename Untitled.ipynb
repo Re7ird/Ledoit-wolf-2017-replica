{
 "cells": [
  {
   "cell_type": "code",
   "execution_count": 3,
   "id": "dec844bb-579e-418e-90e7-58468f635524",
   "metadata": {},
   "outputs": [
    {
     "name": "stdout",
     "output_type": "stream",
     "text": [
      "(13, 2)\n"
     ]
    }
   ],
   "source": [
    "import numpy as np\n",
    "p = 2\n",
    "n = 13\n",
    "sigma = np.eye(p, p)\n",
    "data = np.random.multivariate_normal(np.zeros(p), sigma, n)\n",
    "print(np.shape(data))"
   ]
  },
  {
   "cell_type": "code",
   "execution_count": null,
   "id": "dc5a9521-075f-4c0f-99c9-c4d803cfadf2",
   "metadata": {},
   "outputs": [],
   "source": []
  }
 ],
 "metadata": {
  "kernelspec": {
   "display_name": "Python",
   "language": "python",
   "name": "python3"
  },
  "language_info": {
   "codemirror_mode": {
    "name": "ipython",
    "version": 3
   },
   "file_extension": ".py",
   "mimetype": "text/x-python",
   "name": "python",
   "nbconvert_exporter": "python",
   "pygments_lexer": "ipython3",
   "version": "3.9.15"
  }
 },
 "nbformat": 4,
 "nbformat_minor": 5
}
